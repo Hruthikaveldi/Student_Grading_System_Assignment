{
  "metadata": {
    "kernelspec": {
      "name": "xpython",
      "display_name": "Python 3.13 (XPython)",
      "language": "python"
    },
    "language_info": {
      "file_extension": ".py",
      "mimetype": "text/x-python",
      "name": "python",
      "version": "3.13.1"
    }
  },
  "nbformat_minor": 5,
  "nbformat": 4,
  "cells": [
    {
      "id": "862b3dab-208b-49eb-a3c6-5ab0a63deb75",
      "cell_type": "code",
      "source": "# Grade class for handling grade validation and grade points\nclass Grade:\n    valid_grades = ['A', 'B', 'C', 'D', 'F']\n\n    def __init__(self, grade):\n        if grade not in self.valid_grades:\n            raise ValueError(f\"Invalid grade: {grade}. Valid grades are {', '.join(self.valid_grades)}\")\n        self.grade = grade\n\n    def get_grade_point(self):\n        \"\"\"Returns the grade points associated with the grade.\"\"\"\n        grade_points = {\n            'A': 4.0,\n            'B': 3.0,\n            'C': 2.0,\n            'D': 1.0,\n            'F': 0.0\n        }\n        return grade_points[self.grade]\n\n# Course class for storing course details and the grade received\nclass Course:\n    def __init__(self, course_name, grade: Grade):\n        self.course_name = course_name\n        self.grade = grade\n\n# Student class to manage the student's enrollment and GPA calculation\nclass Student:\n    def __init__(self, name):\n        self.name = name\n        self.courses = []\n\n    def enroll(self, course: Course):\n        \"\"\"Enrolls the student in a course.\"\"\"\n        self.courses.append(course)\n\n    def calculate_gpa(self):\n        \"\"\"Calculates the GPA of the student based on their courses.\"\"\"\n        if not self.courses:\n            return 0.0\n        total_points = sum(course.grade.get_grade_point() for course in self.courses)\n        return total_points / len(self.courses)\n\n    def generate_transcript(self):\n        \"\"\"Generates a transcript listing the courses and the GPA.\"\"\"\n        transcript = f\"Transcript for {self.name}\\n\"\n        for course in self.courses:\n            transcript += f\"{course.course_name}: {course.grade.grade}\\n\"\n        transcript += f\"GPA: {self.calculate_gpa():.2f}\"\n        return transcript\n",
      "metadata": {
        "trusted": true
      },
      "outputs": [],
      "execution_count": 1
    },
    {
      "id": "b7ea6def-1b07-4840-8d03-8c67d4422f45",
      "cell_type": "code",
      "source": "import unittest\n\nclass TestStudentGradingSystem(unittest.TestCase):\n\n    def test_gpa_calculation(self):\n        \"\"\"Test that GPA calculation is accurate.\"\"\"\n        student = Student(\"John Doe\")\n        student.enroll(Course(\"Math\", Grade(\"A\")))\n        student.enroll(Course(\"Physics\", Grade(\"B\")))\n        student.enroll(Course(\"History\", Grade(\"C\")))\n        self.assertEqual(student.calculate_gpa(), 3.0)  # (4 + 3 + 2) / 3 = 3.0\n\n    def test_invalid_grade(self):\n        \"\"\"Test that invalid grades are rejected.\"\"\"\n        with self.assertRaises(ValueError):\n            Grade(\"E\")  # \"E\" is not a valid grade\n\n    def test_empty_courses(self):\n        \"\"\"Test that GPA is 0 if no courses are enrolled.\"\"\"\n        student = Student(\"Alice\")\n        self.assertEqual(student.calculate_gpa(), 0.0)\n\n    def test_transcript_generation(self):\n        \"\"\"Test the transcript generation for a student.\"\"\"\n        student = Student(\"John Doe\")\n        student.enroll(Course(\"Math\", Grade(\"A\")))\n        student.enroll(Course(\"Physics\", Grade(\"B\")))\n        transcript = student.generate_transcript()\n        self.assertIn(\"Math: A\", transcript)\n        self.assertIn(\"Physics: B\", transcript)\n        self.assertIn(\"GPA: 3.50\", transcript)  # GPA is (4 + 3) / 2 = 3.5\n\n# Running the unit tests\nunittest.main(argv=[''], exit=False)\n",
      "metadata": {
        "trusted": true
      },
      "outputs": [
        {
          "name": "stderr",
          "output_type": "stream",
          "text": "....\n----------------------------------------------------------------------\nRan 4 tests in 0.005s\n\nOK\n"
        },
        {
          "execution_count": 2,
          "output_type": "execute_result",
          "data": {
            "text/plain": "<unittest.main.TestProgram at 0x40662d8>"
          },
          "metadata": {}
        }
      ],
      "execution_count": 2
    },
    {
      "id": "89770a0e-642d-4dd6-9b15-3a8268c80e51",
      "cell_type": "code",
      "source": "",
      "metadata": {
        "trusted": true
      },
      "outputs": [],
      "execution_count": null
    }
  ]
}